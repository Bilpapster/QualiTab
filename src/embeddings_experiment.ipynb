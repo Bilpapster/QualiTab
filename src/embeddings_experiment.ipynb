{
 "cells": [
  {
   "metadata": {},
   "cell_type": "code",
   "outputs": [],
   "execution_count": null,
   "source": [
    "!pip install tabpfn openml psycopg2-binary python-dotenv\n",
    "!pip install \"tabpfn-extensions[all] @ git+https://github.com/PriorLabs/tabpfn-extensions.git\""
   ],
   "id": "b56b557faa24b473"
  },
  {
   "metadata": {},
   "cell_type": "code",
   "source": [
    "from experiment import OpenMLEmbeddingsExperiment\n",
    "from config import openML_dataset_configs\n",
    "from utils import get_finished_datasets_from_env_or_else_empty, get_seeds_from_env_or_else_default\n",
    "from google.colab import userdata\n",
    "import os"
   ],
   "id": "initial_id",
   "outputs": [],
   "execution_count": null
  },
  {
   "metadata": {},
   "cell_type": "code",
   "source": [
    "# Please add Google Colab secret variables before executing this cell\n",
    "\n",
    "os.environ['POSTRGES_HOST'] = userdata.get('POSTRGES_HOST')\n",
    "os.environ['POSTRGES_USER'] = userdata.get('POSTRGES_USER')\n",
    "os.environ['POSTRGES_MAPPED_PORT'] = userdata.get('POSTRGES_MAPPED_PORT')\n",
    "os.environ['POSTRGES_PASSWORD'] = userdata.get('POSTRGES_PASSWORD')\n",
    "os.environ['POSTRGES_DB'] = userdata.get('POSTRGES_DB')\n",
    "os.environ['SEEDS'] = userdata.get('SEEDS')\n",
    "os.environ['FINISHED_DATASETS'] = userdata.get('FINISHED_DATASETS')"
   ],
   "id": "2c235e450dea0eb4",
   "outputs": [],
   "execution_count": null
  },
  {
   "metadata": {},
   "cell_type": "code",
   "source": [
    "OpenMLEmbeddingsExperiment(\n",
    "        benchmark_configs=openML_dataset_configs,\n",
    "        random_seeds=get_seeds_from_env_or_else_default(),\n",
    "        datasets_to_skip=get_finished_datasets_from_env_or_else_empty(),\n",
    ").run()"
   ],
   "id": "3206434908a798e4",
   "outputs": [],
   "execution_count": null
  }
 ],
 "metadata": {
  "kernelspec": {
   "display_name": "Python 3",
   "language": "python",
   "name": "python3"
  },
  "language_info": {
   "codemirror_mode": {
    "name": "ipython",
    "version": 2
   },
   "file_extension": ".py",
   "mimetype": "text/x-python",
   "name": "python",
   "nbconvert_exporter": "python",
   "pygments_lexer": "ipython2",
   "version": "2.7.6"
  }
 },
 "nbformat": 4,
 "nbformat_minor": 5
}
